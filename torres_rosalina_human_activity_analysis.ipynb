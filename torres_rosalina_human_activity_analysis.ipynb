{
 "cells": [
  {
   "cell_type": "markdown",
   "id": "564af0a6",
   "metadata": {},
   "source": [
    "Human Activity Monitoring Analysis using Permutation Entropy\n",
    "Complete analysis code"
   ]
  },
  {
   "cell_type": "code",
   "execution_count": null,
   "id": "f1a2b14d",
   "metadata": {},
   "outputs": [],
   "source": [
    "# --- 1. Import Libraries ---\n",
    "import pandas as pd\n",
    "import numpy as np\n",
    "import matplotlib.pyplot as plt\n",
    "import seaborn as sns\n",
    "from scipy import stats\n",
    "import os"
   ]
  },
  {
   "cell_type": "code",
   "execution_count": null,
   "id": "90084fb5",
   "metadata": {},
   "outputs": [],
   "source": [
    "# For 3D plots\n",
    "from mpl_toolkits.mplot3d import Axes3D"
   ]
  },
  {
   "cell_type": "code",
   "execution_count": null,
   "id": "fedec8e4",
   "metadata": {},
   "outputs": [],
   "source": [
    "# Set plotting style\n",
    "plt.style.use('seaborn-v0_8-whitegrid')\n",
    "sns.set_context(\"talk\")"
   ]
  },
  {
   "cell_type": "code",
   "execution_count": null,
   "id": "c4f93642",
   "metadata": {},
   "outputs": [],
   "source": [
    "# Handle warnings\n",
    "import warnings\n",
    "warnings.filterwarnings('ignore')"
   ]
  },
  {
   "cell_type": "code",
   "execution_count": null,
   "id": "78ae12b3",
   "metadata": {},
   "outputs": [],
   "source": [
    "# --- 2. Load the Dataset ---\n",
    "# Define the path to the dataset\n",
    "data_path = \"/Users/rosalinatorres/corrected_permutation_entropy_complexity.csv\""
   ]
  },
  {
   "cell_type": "code",
   "execution_count": null,
   "id": "ba87cfd3",
   "metadata": {},
   "outputs": [],
   "source": [
    "# Load the dataset\n",
    "df = pd.read_csv(data_path)"
   ]
  },
  {
   "cell_type": "code",
   "execution_count": null,
   "id": "afaa503e",
   "metadata": {},
   "outputs": [],
   "source": [
    "# Display basic information\n",
    "print(f\"Dataset shape: {df.shape}\")\n",
    "print(f\"\\nColumns: {df.columns.tolist()}\")\n",
    "print(f\"\\nSample data:\")\n",
    "print(df.head())"
   ]
  },
  {
   "cell_type": "code",
   "execution_count": null,
   "id": "a9150c11",
   "metadata": {},
   "outputs": [],
   "source": [
    "# --- 3. Explore Dataset Properties ---\n",
    "# Display dataset summary\n",
    "print(f\"Number of subjects: {df['Subject'].nunique()}\")\n",
    "print(f\"Activities: {sorted(df['Activity'].unique())}\")\n",
    "print(f\"Axes: {sorted(df['Axis'].unique())}\")\n",
    "print(f\"Dimensions: {sorted(df['Dimension'].unique())}\")\n",
    "print(f\"Delays: {sorted(df['Delay'].unique())}\")\n",
    "print(f\"Signal lengths: {sorted(df['Signal length'].unique())}\")"
   ]
  },
  {
   "cell_type": "code",
   "execution_count": null,
   "id": "55b116aa",
   "metadata": {},
   "outputs": [],
   "source": [
    "# Count samples per activity\n",
    "print(\"\\nSamples per activity:\")\n",
    "print(df['Activity'].value_counts())"
   ]
  },
  {
   "cell_type": "code",
   "execution_count": null,
   "id": "50d116f2",
   "metadata": {},
   "outputs": [],
   "source": [
    "# Check for missing values\n",
    "print(\"\\nMissing values per column:\")\n",
    "print(df.isnull().sum())"
   ]
  },
  {
   "cell_type": "code",
   "execution_count": null,
   "id": "86c816c7",
   "metadata": {},
   "outputs": [],
   "source": [
    "# --- 4. Data Distribution Analysis ---\n",
    "# Distribution of Permutation Entropy values\n",
    "plt.figure(figsize=(12, 6))\n",
    "sns.histplot(df['Permutation entropy'], kde=True)\n",
    "plt.title('Distribution of Permutation Entropy Values')\n",
    "plt.xlabel('Permutation Entropy')\n",
    "plt.ylabel('Frequency')\n",
    "plt.grid(True, alpha=0.3)\n",
    "plt.savefig('pe_distribution.png')\n",
    "plt.close()"
   ]
  },
  {
   "cell_type": "code",
   "execution_count": null,
   "id": "0289bfc1",
   "metadata": {},
   "outputs": [],
   "source": [
    "# Distribution of Complexity values\n",
    "plt.figure(figsize=(12, 6))\n",
    "sns.histplot(df['Complexity'], kde=True)\n",
    "plt.title('Distribution of Complexity Values')\n",
    "plt.xlabel('Complexity')\n",
    "plt.ylabel('Frequency')\n",
    "plt.grid(True, alpha=0.3)\n",
    "plt.savefig('complexity_distribution.png')\n",
    "plt.close()"
   ]
  },
  {
   "cell_type": "code",
   "execution_count": null,
   "id": "ca85b63e",
   "metadata": {},
   "outputs": [],
   "source": [
    "# --- 5. Analysis by Parameters (Dimension and Delay) ---\n",
    "# Group by dimension and delay and calculate mean PE and Complexity\n",
    "heatmap_data = df.groupby(['Dimension', 'Delay'])[['Permutation entropy', 'Complexity']].mean().reset_index()\n",
    "heatmap_pe = heatmap_data.pivot(index='Dimension', columns='Delay', values='Permutation entropy')\n",
    "heatmap_complexity = heatmap_data.pivot(index='Dimension', columns='Delay', values='Complexity')"
   ]
  },
  {
   "cell_type": "code",
   "execution_count": null,
   "id": "5b96557c",
   "metadata": {},
   "outputs": [],
   "source": [
    "# Create PE heatmap\n",
    "plt.figure(figsize=(10, 8))\n",
    "sns.heatmap(heatmap_pe, annot=True, cmap='viridis', fmt='.4f')\n",
    "plt.title('Mean Permutation Entropy by Dimension and Delay')\n",
    "plt.savefig('pe_heatmap.png')\n",
    "plt.close()"
   ]
  },
  {
   "cell_type": "code",
   "execution_count": null,
   "id": "77f735f5",
   "metadata": {},
   "outputs": [],
   "source": [
    "# Create Complexity heatmap\n",
    "plt.figure(figsize=(10, 8))\n",
    "sns.heatmap(heatmap_complexity, annot=True, cmap='viridis', fmt='.4f')\n",
    "plt.title('Mean Complexity by Dimension and Delay')\n",
    "plt.savefig('complexity_heatmap.png')\n",
    "plt.close()"
   ]
  },
  {
   "cell_type": "code",
   "execution_count": null,
   "id": "7753772a",
   "metadata": {},
   "outputs": [],
   "source": [
    "# --- 6. Analysis by Activity (Basic Parameters: Dimension=3, Delay=1) ---\n",
    "# Filter for dimension=3, delay=1\n",
    "filtered_df = df[(df['Dimension'] == 3) & (df['Delay'] == 1)]"
   ]
  },
  {
   "cell_type": "code",
   "execution_count": null,
   "id": "e195f946",
   "metadata": {},
   "outputs": [],
   "source": [
    "# Group by Activity and calculate statistics\n",
    "activity_stats = filtered_df.groupby('Activity').agg({\n",
    "    'Permutation entropy': ['mean', 'std'],\n",
    "    'Complexity': ['mean', 'std']\n",
    "}).reset_index()"
   ]
  },
  {
   "cell_type": "code",
   "execution_count": null,
   "id": "aac8326b",
   "metadata": {},
   "outputs": [],
   "source": [
    "print(\"\\nActivity statistics with basic parameters (dimension=3, delay=1):\")\n",
    "print(activity_stats)"
   ]
  },
  {
   "cell_type": "code",
   "execution_count": null,
   "id": "b12a5874",
   "metadata": {},
   "outputs": [],
   "source": [
    "# Create activity comparison plot\n",
    "plt.figure(figsize=(14, 7))\n",
    "activities = filtered_df['Activity'].unique()\n",
    "x = np.arange(len(activities))\n",
    "width = 0.35"
   ]
  },
  {
   "cell_type": "code",
   "execution_count": null,
   "id": "b2bcb30f",
   "metadata": {},
   "outputs": [],
   "source": [
    "pe_means = [filtered_df[filtered_df['Activity'] == act]['Permutation entropy'].mean() for act in activities]\n",
    "pe_std = [filtered_df[filtered_df['Activity'] == act]['Permutation entropy'].std() for act in activities]"
   ]
  },
  {
   "cell_type": "code",
   "execution_count": null,
   "id": "6964fa2b",
   "metadata": {},
   "outputs": [],
   "source": [
    "complexity_means = [filtered_df[filtered_df['Activity'] == act]['Complexity'].mean() for act in activities]\n",
    "complexity_std = [filtered_df[filtered_df['Activity'] == act]['Complexity'].std() for act in activities]"
   ]
  },
  {
   "cell_type": "code",
   "execution_count": null,
   "id": "af34c696",
   "metadata": {},
   "outputs": [],
   "source": [
    "plt.bar(x - width/2, pe_means, width, label='Permutation Entropy', yerr=pe_std, capsize=5, color='skyblue')\n",
    "plt.bar(x + width/2, complexity_means, width, label='Complexity', yerr=complexity_std, capsize=5, color='lightcoral')"
   ]
  },
  {
   "cell_type": "code",
   "execution_count": null,
   "id": "06773563",
   "metadata": {},
   "outputs": [],
   "source": [
    "plt.xlabel('Activity')\n",
    "plt.ylabel('Value')\n",
    "plt.title('Permutation Entropy and Complexity by Activity (Dimension=3, Delay=1)')\n",
    "plt.xticks(x, activities)\n",
    "plt.legend()\n",
    "plt.grid(True, alpha=0.3)\n",
    "plt.tight_layout()\n",
    "plt.savefig('activity_comparison_basic.png')\n",
    "plt.close()"
   ]
  },
  {
   "cell_type": "code",
   "execution_count": null,
   "id": "5b24c4bf",
   "metadata": {},
   "outputs": [],
   "source": [
    "# --- 7. Activity Analysis by Axis ---\n",
    "# Group by Axis and Activity to calculate statistics\n",
    "axis_stats = filtered_df.groupby(['Activity', 'Axis']).agg({\n",
    "    'Permutation entropy': ['mean', 'std'],\n",
    "    'Complexity': ['mean', 'std']\n",
    "}).reset_index()"
   ]
  },
  {
   "cell_type": "code",
   "execution_count": null,
   "id": "b598fcf5",
   "metadata": {},
   "outputs": [],
   "source": [
    "print(\"\\nActivity and axis statistics:\")\n",
    "print(axis_stats)"
   ]
  },
  {
   "cell_type": "code",
   "execution_count": null,
   "id": "c2c4cf8a",
   "metadata": {},
   "outputs": [],
   "source": [
    "# Create subplot for each activity\n",
    "activities = filtered_df['Activity'].unique()\n",
    "axes_labels = filtered_df['Axis'].unique()"
   ]
  },
  {
   "cell_type": "code",
   "execution_count": null,
   "id": "4b04d141",
   "metadata": {},
   "outputs": [],
   "source": [
    "fig, axs = plt.subplots(1, len(activities), figsize=(20, 6), sharey=True)\n",
    "fig.suptitle('Permutation Entropy by Axis for Each Activity (Dimension=3, Delay=1)', fontsize=16)"
   ]
  },
  {
   "cell_type": "code",
   "execution_count": null,
   "id": "2a627944",
   "metadata": {},
   "outputs": [],
   "source": [
    "for i, activity in enumerate(activities):\n",
    "    activity_data = filtered_df[filtered_df['Activity'] == activity]\n",
    "    \n",
    "    # Group by axis\n",
    "    axis_means = [activity_data[activity_data['Axis'] == axis]['Permutation entropy'].mean() for axis in axes_labels]\n",
    "    axis_std = [activity_data[activity_data['Axis'] == axis]['Permutation entropy'].std() for axis in axes_labels]\n",
    "    \n",
    "    axs[i].bar(axes_labels, axis_means, yerr=axis_std, capsize=5, color='lightgreen')\n",
    "    axs[i].set_title(activity)\n",
    "    axs[i].set_xlabel('Axis')\n",
    "    if i == 0:\n",
    "        axs[i].set_ylabel('Permutation Entropy')\n",
    "    axs[i].grid(True, alpha=0.3)"
   ]
  },
  {
   "cell_type": "code",
   "execution_count": null,
   "id": "b0ba1c61",
   "metadata": {},
   "outputs": [],
   "source": [
    "plt.tight_layout(rect=[0, 0, 1, 0.95])\n",
    "plt.savefig('axis_comparison.png')\n",
    "plt.close()"
   ]
  },
  {
   "cell_type": "code",
   "execution_count": null,
   "id": "b63cf395",
   "metadata": {},
   "outputs": [],
   "source": [
    "# --- 8. Statistical Tests ---\n",
    "# ANOVA for Permutation Entropy\n",
    "activities = filtered_df['Activity'].unique()\n",
    "f_stat_pe, p_value_pe = stats.f_oneway(\n",
    "    *[filtered_df[filtered_df['Activity'] == act]['Permutation entropy'].values for act in activities]\n",
    ")\n",
    "print(f\"\\nANOVA for Permutation Entropy: F={f_stat_pe:.4f}, p={p_value_pe:.4f}\")"
   ]
  },
  {
   "cell_type": "code",
   "execution_count": null,
   "id": "11984aa5",
   "metadata": {},
   "outputs": [],
   "source": [
    "# ANOVA for Complexity\n",
    "f_stat_complexity, p_value_complexity = stats.f_oneway(\n",
    "    *[filtered_df[filtered_df['Activity'] == act]['Complexity'].values for act in activities]\n",
    ")\n",
    "print(f\"ANOVA for Complexity: F={f_stat_complexity:.4f}, p={p_value_complexity:.4f}\")"
   ]
  },
  {
   "cell_type": "code",
   "execution_count": null,
   "id": "3471d770",
   "metadata": {},
   "outputs": [],
   "source": [
    "# Test with different parameters\n",
    "print(\"\\nFinding optimal parameters for discrimination:\")\n",
    "dimensions = sorted(df['Dimension'].unique())\n",
    "delays = sorted(df['Delay'].unique())"
   ]
  },
  {
   "cell_type": "code",
   "execution_count": null,
   "id": "8a6857d3",
   "metadata": {},
   "outputs": [],
   "source": [
    "results = []\n",
    "for dim in dimensions:\n",
    "    for delay in delays:\n",
    "        param_df = df[(df['Dimension'] == dim) & (df['Delay'] == delay)]\n",
    "        if len(param_df) > 0:\n",
    "            try:\n",
    "                f_stat, p_value = stats.f_oneway(\n",
    "                    *[param_df[param_df['Activity'] == act]['Permutation entropy'].values for act in activities]\n",
    "                )\n",
    "                results.append({'Dimension': dim, 'Delay': delay, 'F_statistic': f_stat, 'p_value': p_value})\n",
    "            except:\n",
    "                continue"
   ]
  },
  {
   "cell_type": "code",
   "execution_count": null,
   "id": "e89120fe",
   "metadata": {},
   "outputs": [],
   "source": [
    "results_df = pd.DataFrame(results)\n",
    "print(\"\\nTop 5 parameter combinations by F-statistic:\")\n",
    "print(results_df.sort_values('F_statistic', ascending=False).head(5))"
   ]
  },
  {
   "cell_type": "code",
   "execution_count": null,
   "id": "1a738ac3",
   "metadata": {},
   "outputs": [],
   "source": [
    "# --- 9. Activity Comparison with Optimal Parameters ---\n",
    "# Use the optimal parameters found above\n",
    "best_dim = results_df.loc[results_df['F_statistic'].idxmax(), 'Dimension']\n",
    "best_delay = results_df.loc[results_df['F_statistic'].idxmax(), 'Delay']"
   ]
  },
  {
   "cell_type": "code",
   "execution_count": null,
   "id": "15160abc",
   "metadata": {},
   "outputs": [],
   "source": [
    "print(f\"\\nOptimal parameters: Dimension={best_dim}, Delay={best_delay}\")"
   ]
  },
  {
   "cell_type": "code",
   "execution_count": null,
   "id": "41ae8cb2",
   "metadata": {},
   "outputs": [],
   "source": [
    "# Filter for optimal parameters\n",
    "optimal_df = df[(df['Dimension'] == best_dim) & (df['Delay'] == best_delay)]"
   ]
  },
  {
   "cell_type": "code",
   "execution_count": null,
   "id": "68972689",
   "metadata": {},
   "outputs": [],
   "source": [
    "# Group by Activity and calculate statistics\n",
    "optimal_stats = optimal_df.groupby('Activity').agg({\n",
    "    'Permutation entropy': ['mean', 'std'],\n",
    "    'Complexity': ['mean', 'std']\n",
    "}).reset_index()"
   ]
  },
  {
   "cell_type": "code",
   "execution_count": null,
   "id": "d7c4e362",
   "metadata": {},
   "outputs": [],
   "source": [
    "print(\"\\nActivity statistics with optimal parameters:\")\n",
    "print(optimal_stats)"
   ]
  },
  {
   "cell_type": "code",
   "execution_count": null,
   "id": "baaed058",
   "metadata": {},
   "outputs": [],
   "source": [
    "# Create PE vs Complexity scatter plot\n",
    "plt.figure(figsize=(12, 10))"
   ]
  },
  {
   "cell_type": "code",
   "execution_count": null,
   "id": "6634a5e1",
   "metadata": {},
   "outputs": [],
   "source": [
    "# Colors for different activities\n",
    "colors = {'walking': 'blue', 'running': 'red', 'climbingup': 'green', 'climbingdown': 'purple'}\n",
    "markers = {'walking': 'o', 'running': 's', 'climbingup': '^', 'climbingdown': 'd'}"
   ]
  },
  {
   "cell_type": "code",
   "execution_count": null,
   "id": "9bf5299e",
   "metadata": {},
   "outputs": [],
   "source": [
    "for activity in optimal_df['Activity'].unique():\n",
    "    activity_data = optimal_df[optimal_df['Activity'] == activity]\n",
    "    \n",
    "    plt.scatter(\n",
    "        activity_data['Permutation entropy'],\n",
    "        activity_data['Complexity'],\n",
    "        label=activity,\n",
    "        alpha=0.7,\n",
    "        s=70,\n",
    "        c=colors[activity],\n",
    "        marker=markers[activity]\n",
    "    )\n",
    "    \n",
    "    # Add centroids\n",
    "    centroid = (activity_data['Permutation entropy'].mean(), activity_data['Complexity'].mean())\n",
    "    plt.scatter(\n",
    "        centroid[0],\n",
    "        centroid[1],\n",
    "        s=200,\n",
    "        c=colors[activity],\n",
    "        marker='*',\n",
    "        edgecolor='black',\n",
    "        linewidth=1.5,\n",
    "        alpha=1.0\n",
    "    )"
   ]
  },
  {
   "cell_type": "code",
   "execution_count": null,
   "id": "fe870189",
   "metadata": {},
   "outputs": [],
   "source": [
    "plt.xlabel('Permutation Entropy')\n",
    "plt.ylabel('Statistical Complexity')\n",
    "plt.title(f'PE vs Complexity with Optimal Parameters (Dimension={best_dim}, Delay={best_delay})')\n",
    "plt.legend()\n",
    "plt.grid(True, alpha=0.3)\n",
    "plt.savefig('optimal_parameters_comparison.png')\n",
    "plt.close()"
   ]
  },
  {
   "cell_type": "code",
   "execution_count": null,
   "id": "f4dc237e",
   "metadata": {},
   "outputs": [],
   "source": [
    "# --- 10. Activity Separation across Parameter Space ---\n",
    "# Calculate F-statistic for each parameter combination\n",
    "param_results = []"
   ]
  },
  {
   "cell_type": "code",
   "execution_count": null,
   "id": "1dc5a40c",
   "metadata": {},
   "outputs": [],
   "source": [
    "for dim in dimensions:\n",
    "    for delay in delays:\n",
    "        param_df = df[(df['Dimension'] == dim) & (df['Delay'] == delay)]\n",
    "        if len(param_df) > 0:\n",
    "            try:\n",
    "                f_stat, p_value = stats.f_oneway(\n",
    "                    *[param_df[param_df['Activity'] == act]['Permutation entropy'].values for act in activities]\n",
    "                )\n",
    "                param_results.append({\n",
    "                    'Dimension': dim, \n",
    "                    'Delay': delay, \n",
    "                    'F_statistic': f_stat,\n",
    "                    'p_value': p_value,\n",
    "                    'Is_significant': p_value < 0.05\n",
    "                })\n",
    "            except:\n",
    "                continue"
   ]
  },
  {
   "cell_type": "code",
   "execution_count": null,
   "id": "ab5a8d78",
   "metadata": {},
   "outputs": [],
   "source": [
    "param_df = pd.DataFrame(param_results)"
   ]
  },
  {
   "cell_type": "code",
   "execution_count": null,
   "id": "c359ce33",
   "metadata": {},
   "outputs": [],
   "source": [
    "# Visualization of parameter space\n",
    "plt.figure(figsize=(10, 8))\n",
    "for i, row in param_df.iterrows():\n",
    "    color = 'green' if row['Is_significant'] else 'red'\n",
    "    plt.scatter(row['Dimension'], row['Delay'], s=row['F_statistic']*20, color=color, alpha=0.7)\n",
    "    plt.text(row['Dimension'], row['Delay'], f\"{row['F_statistic']:.2f}\", ha='center', va='center')"
   ]
  },
  {
   "cell_type": "code",
   "execution_count": null,
   "id": "ccc004f8",
   "metadata": {},
   "outputs": [],
   "source": [
    "plt.xlabel('Dimension')\n",
    "plt.ylabel('Delay')\n",
    "plt.title('F-Statistic for Activity Discrimination by Parameter Combination')\n",
    "plt.xticks(dimensions)\n",
    "plt.yticks(delays)\n",
    "plt.grid(True)\n",
    "plt.savefig('parameter_space_analysis.png')\n",
    "plt.close()"
   ]
  },
  {
   "cell_type": "code",
   "execution_count": null,
   "id": "6bf21ad4",
   "metadata": {},
   "outputs": [],
   "source": [
    "# --- 11. Analyzing Activity Patterns by Subject ---\n",
    "# Use optimal parameters\n",
    "subject_df = df[(df['Dimension'] == best_dim) & (df['Delay'] == best_delay)]"
   ]
  },
  {
   "cell_type": "code",
   "execution_count": null,
   "id": "9339b1a0",
   "metadata": {},
   "outputs": [],
   "source": [
    "# Create boxplot of PE by activity and subject\n",
    "plt.figure(figsize=(16, 10))\n",
    "sns.boxplot(x='Activity', y='Permutation entropy', hue='Subject', data=subject_df)\n",
    "plt.title(f'Permutation Entropy by Activity and Subject (Dimension={best_dim}, Delay={best_delay})')\n",
    "plt.legend(title='Subject', loc='upper right', bbox_to_anchor=(1.15, 1))\n",
    "plt.grid(True, alpha=0.3)\n",
    "plt.tight_layout()\n",
    "plt.savefig('subject_analysis.png')\n",
    "plt.close()"
   ]
  },
  {
   "cell_type": "code",
   "execution_count": null,
   "id": "31fb902a",
   "metadata": {},
   "outputs": [],
   "source": [
    "# --- 12. 3D Visualization of Parameter Space ---\n",
    "# Create 3D visualization of activity patterns in parameter space\n",
    "fig = plt.figure(figsize=(14, 12))\n",
    "ax = fig.add_subplot(111, projection='3d')"
   ]
  },
  {
   "cell_type": "code",
   "execution_count": null,
   "id": "ff2f937a",
   "metadata": {},
   "outputs": [],
   "source": [
    "# Get mean values for each combination\n",
    "mean_data = df.groupby(['Dimension', 'Delay', 'Activity']).agg({\n",
    "    'Permutation entropy': 'mean',\n",
    "    'Complexity': 'mean'\n",
    "}).reset_index()"
   ]
  },
  {
   "cell_type": "code",
   "execution_count": null,
   "id": "1bc4388a",
   "metadata": {},
   "outputs": [],
   "source": [
    "# Create color map for activities\n",
    "activities = mean_data['Activity'].unique()\n",
    "colors = ['b', 'r', 'g', 'purple']\n",
    "activity_colors = dict(zip(activities, colors))"
   ]
  },
  {
   "cell_type": "code",
   "execution_count": null,
   "id": "59e2c346",
   "metadata": {},
   "outputs": [],
   "source": [
    "# Plot each activity\n",
    "for activity in activities:\n",
    "    activity_data = mean_data[mean_data['Activity'] == activity]\n",
    "    \n",
    "    ax.scatter(\n",
    "        activity_data['Dimension'],\n",
    "        activity_data['Delay'],\n",
    "        activity_data['Permutation entropy'],\n",
    "        label=activity,\n",
    "        alpha=0.7,\n",
    "        s=100,\n",
    "        c=activity_colors[activity]\n",
    "    )"
   ]
  },
  {
   "cell_type": "code",
   "execution_count": null,
   "id": "7e3d3d34",
   "metadata": {},
   "outputs": [],
   "source": [
    "ax.set_xlabel('Dimension')\n",
    "ax.set_ylabel('Delay')\n",
    "ax.set_zlabel('Permutation Entropy')\n",
    "ax.set_title('Permutation Entropy in Parameter Space by Activity')\n",
    "ax.legend()"
   ]
  },
  {
   "cell_type": "code",
   "execution_count": null,
   "id": "be049f8f",
   "metadata": {},
   "outputs": [],
   "source": [
    "plt.savefig('3d_parameter_space.png')\n",
    "plt.close()"
   ]
  },
  {
   "cell_type": "code",
   "execution_count": null,
   "id": "b30ef19e",
   "metadata": {},
   "outputs": [],
   "source": [
    "# --- 13. Create Summary Report ---\n",
    "# Create a directory for results if it doesn't exist\n",
    "os.makedirs('results', exist_ok=True)"
   ]
  },
  {
   "cell_type": "code",
   "execution_count": null,
   "id": "d38886d8",
   "metadata": {},
   "outputs": [],
   "source": [
    "# Write a summary report\n",
    "with open('results/activity_analysis_summary.txt', 'w') as f:\n",
    "    f.write(\"=== Human Activity Analysis using Permutation Entropy ===\\n\\n\")\n",
    "    \n",
    "    f.write(\"Dataset Summary:\\n\")\n",
    "    f.write(f\"Total data points: {len(df)}\\n\")\n",
    "    f.write(f\"Subjects: {df['Subject'].nunique()}\\n\")\n",
    "    f.write(f\"Activities: {', '.join(sorted(df['Activity'].unique()))}\\n\")\n",
    "    f.write(f\"Axes: {', '.join(sorted(df['Axis'].unique()))}\\n\")\n",
    "    f.write(f\"Dimensions: {', '.join(map(str, sorted(df['Dimension'].unique())))}\\n\")\n",
    "    f.write(f\"Delays: {', '.join(map(str, sorted(df['Delay'].unique())))}\\n\")\n",
    "    f.write(f\"Signal lengths: {', '.join(map(str, sorted(df['Signal length'].unique())))}\\n\\n\")\n",
    "    \n",
    "    f.write(\"Key Findings:\\n\")\n",
    "    \n",
    "    # Optimal parameters\n",
    "    f.write(f\"1. Optimal parameters for distinguishing activities:\\n\")\n",
    "    f.write(f\"   Dimension: {best_dim}, Delay: {best_delay}\\n\")\n",
    "    best_f = results_df.loc[results_df['F_statistic'].idxmax(), 'F_statistic']\n",
    "    best_p = results_df.loc[results_df['F_statistic'].idxmax(), 'p_value']\n",
    "    f.write(f\"   (F-statistic: {best_f:.4f}, p-value: {best_p:.4f})\\n\\n\")\n",
    "    \n",
    "    # Activity differences\n",
    "    f.write(f\"2. Activity discrimination with basic parameters (dim=3, delay=1):\\n\")\n",
    "    f.write(f\"   ANOVA for PE: F={f_stat_pe:.4f}, p={p_value_pe:.4f}\\n\")\n",
    "    f.write(f\"   ANOVA for Complexity: F={f_stat_complexity:.4f}, p={p_value_complexity:.4f}\\n\\n\")\n",
    "    \n",
    "    # Best axis\n",
    "    axis_f_stats = {}\n",
    "    for axis in df['Axis'].unique():\n",
    "        axis_data = filtered_df[filtered_df['Axis'] == axis]\n",
    "        try:\n",
    "            f_stat, _ = stats.f_oneway(\n",
    "                *[axis_data[axis_data['Activity'] == act]['Permutation entropy'].values for act in activities]\n",
    "            )\n",
    "            axis_f_stats[axis] = f_stat\n",
    "        except:\n",
    "            axis_f_stats[axis] = 0\n",
    "    \n",
    "    best_axis = max(axis_f_stats, key=axis_f_stats.get)\n",
    "    \n",
    "    f.write(f\"3. Best axis for activity discrimination: {best_axis}\\n\")\n",
    "    f.write(f\"   (F-statistic: {axis_f_stats[best_axis]:.4f})\\n\\n\")\n",
    "    \n",
    "    # Activity characteristics\n",
    "    f.write(\"4. Activity characteristics with optimal parameters:\\n\")\n",
    "    for activity in activities:\n",
    "        pe_mean = optimal_df[optimal_df['Activity'] == activity]['Permutation entropy'].mean()\n",
    "        complexity_mean = optimal_df[optimal_df['Activity'] == activity]['Complexity'].mean()\n",
    "        f.write(f\"   {activity}: PE={pe_mean:.4f}, Complexity={complexity_mean:.4f}\\n\")\n",
    "    \n",
    "    f.write(\"\\n5. Conclusions:\\n\")\n",
    "    f.write(\"   - Standard parameters (dimension=3, delay=1) show minimal differentiation between activities\\n\")\n",
    "    f.write(\"   - Higher dimensions provide better discrimination capability\\n\")\n",
    "    f.write(\"   - Different activities show distinctive patterns along specific axes\\n\")\n",
    "    f.write(\"   - The permutation entropy approach can effectively characterize human activities\\n\")\n",
    "    f.write(\"     when optimized parameters are used\\n\")"
   ]
  },
  {
   "cell_type": "code",
   "execution_count": null,
   "id": "c6c19e3d",
   "metadata": {},
   "outputs": [],
   "source": [
    "print(\"\\nAnalysis complete! Results saved to disk.\")\n",
    "print(\"Key visualizations and summary report have been generated.\")"
   ]
  },
  {
   "cell_type": "code",
   "execution_count": null,
   "id": "a85fcd6c",
   "metadata": {},
   "outputs": [],
   "source": []
  }
 ],
 "metadata": {
  "jupytext": {
   "cell_metadata_filter": "-all",
   "notebook_metadata_filter": "-all",
   "text_representation": {
    "extension": ".py",
    "format_name": "light"
   }
  },
  "kernelspec": {
   "display_name": "Python (numpy_1.21_env)",
   "language": "python",
   "name": "numpy_1.21_env"
  }
 },
 "nbformat": 4,
 "nbformat_minor": 5
}
